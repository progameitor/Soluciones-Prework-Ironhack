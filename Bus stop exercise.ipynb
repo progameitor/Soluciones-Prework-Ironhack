{
 "cells": [
  {
   "cell_type": "code",
   "execution_count": 22,
   "metadata": {},
   "outputs": [
    {
     "ename": "SyntaxError",
     "evalue": "can't assign to literal (<ipython-input-22-d36420153181>, line 8)",
     "output_type": "error",
     "traceback": [
      "\u001b[1;36m  File \u001b[1;32m\"<ipython-input-22-d36420153181>\"\u001b[1;36m, line \u001b[1;32m8\u001b[0m\n\u001b[1;33m    for \"in\", \"out\" in stops:\u001b[0m\n\u001b[1;37m       ^\u001b[0m\n\u001b[1;31mSyntaxError\u001b[0m\u001b[1;31m:\u001b[0m can't assign to literal\n"
     ]
    }
   ],
   "source": [
    "# variables\n",
    "bus_stop=(\"in\",\"out\") # tuple que es inmutable\n",
    "stops = [(10, 7), (3, 3), (12, 4), (5, 8)] # es una lista por lo que podre meter valores\n",
    "# 1. Calculate the number of stops.\n",
    "len(stops)\n",
    "# 2. Assign a variable a list whose elements are the number of passengers in each stop: \n",
    "# Each item depends on the previous item in the list + in - out.\n",
    "for \"in\", \"out\" in stops:\n",
    "    pasajeros_in.append[\"in\"]\n",
    "    pasajeros_out.append[\"out\"] \n",
    "\n",
    "    \n",
    "    \n",
    "    number_of_passengers = stops(\"in\")- stops(\"out\")\n",
    "\n",
    " \n",
    "\n",
    "# 3. Find the maximum occupation of the bus.\n",
    "max(number_of_passengers(len(stops))) # intento decir maximo numero de cada pasajero en cada momento(len(stops))\n",
    "\n",
    "\n",
    "# 4. Calculate the average occupation. And the standard deviation.\n",
    "\n",
    "# primera funcion para calcular la media\n",
    "def mean(stops):\n",
    "    n= len(stops)\n",
    "    if n < 1:\n",
    "        raise \"value error\"\n",
    "        return sum(stops)/n    # obviamente aqui debo de plantar la funcion o formula que anteriormente haya construido NI IDEA\n",
    "    \n",
    "# segunda funcion para calcular la suma de los cuadrados\n",
    "\n",
    "def sum_squared(stops):\n",
    "    mean= sum(stops)/n\n",
    "    n = len(stops)\n",
    "    sum_squared = sum(mean ** 2 for n in stops): # aqui lo que quiero decir es la suma de la medias al cuadrado por cada n en las paradas\n",
    "    return sum_squared \n",
    "\n",
    "# tercera funcion para calcular la desviacion estandar\n",
    "\n",
    "def standard_desviation(stops, diferencia= 1)\n",
    "    n= len(stops)\n",
    "    if n < 2\n",
    "        raise \"it should be at least two inputs\"\n",
    "    standard_desviation=  sum_squared(stops)\n",
    "    variance = standard_desviation/(n-diferencia) ** 0.5 #aqui aplico la formula de la desviacion estandar\n",
    "    "
   ]
  },
  {
   "cell_type": "code",
   "execution_count": null,
   "metadata": {},
   "outputs": [],
   "source": []
  }
 ],
 "metadata": {
  "kernelspec": {
   "display_name": "Python 3",
   "language": "python",
   "name": "python3"
  },
  "language_info": {
   "codemirror_mode": {
    "name": "ipython",
    "version": 3
   },
   "file_extension": ".py",
   "mimetype": "text/x-python",
   "name": "python",
   "nbconvert_exporter": "python",
   "pygments_lexer": "ipython3",
   "version": "3.7.3"
  }
 },
 "nbformat": 4,
 "nbformat_minor": 2
}
